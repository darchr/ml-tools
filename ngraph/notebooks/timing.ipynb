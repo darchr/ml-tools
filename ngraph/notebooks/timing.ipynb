{
 "cells": [
  {
   "cell_type": "markdown",
   "metadata": {},
   "source": [
    "# Timing\n",
    "\n",
    "Our initial idea for using the Persistent Memory devices relies on obtaining timing information for the various kernels in an nGraph function with the inputs/outputs in different different memory pools, and using this timing to assign weights to an optimization routine.\n",
    "\n",
    "The questions this notebook is trying to answer is:\n",
    "\n",
    "1. If profiling individual kernels in this way provides somewhat consistent and reliable results.\n",
    "2. If profiling multiple kernel configurations at a time across the graph yields similar results to testing one configuration at a time. This optimization comre from the large number of configurations that have to be tested for larger graphs. Overlapping thests for non-neighboring ops can speed up profiling time by over an order of magnitude.\n",
    "\n",
    "The general pipeline for performing the profiling is:\n",
    "\n",
    "1. Build a nGraph function + executable\n",
    "2. Get all nodes in the graph that we want to test and enumerate all the configurations to be tested.\n",
    "3. Pick a configuration to test and configure the graph to reflect that configuration. Optionally, keep greedily picking configurations that don't overlap until no more can be selected.\n",
    "4. Recompile the graph with the new memory configuration.\n",
    "5. Use the built-in timing features of nGraph codegen to profile the running times for internal nodes.\n",
    "6. Repeat until all configurations have been checked.\n",
    "\n",
    "## Desired Outcomes\n",
    "\n",
    "1. Timing for single config and multi-config runs similar.\n",
    "2. Variation of timing for ops in the same configuration relatively small."
   ]
  },
  {
   "cell_type": "code",
   "execution_count": 1,
   "metadata": {},
   "outputs": [
    {
     "name": "stderr",
     "output_type": "stream",
     "text": [
      "┌ Info: Recompiling stale cache file /home/mark/.julia/compiled/v1.1/Runner/F5BZU.ji for Runner [4a6e9825-ed04-540b-82d3-f33d0e8d45fb]\n",
      "└ @ Base loading.jl:1184\n",
      "┌ Info: Precompiling Checkpoints [b4a3413d-e481-5afc-88ff-bdfbd6a50dce]\n",
      "└ @ Base loading.jl:1186\n"
     ]
    },
    {
     "data": {
      "text/plain": [
       "\"./timing-checkpoints\""
      ]
     },
     "execution_count": 1,
     "metadata": {},
     "output_type": "execute_result"
    }
   ],
   "source": [
    "using Pkg; Pkg.activate(\".\")\n",
    "\n",
    "using Runner, Checkpoints\n",
    "\n",
    "# Setup checkpoints\n",
    "setdepot(\"./timing-checkpoints\")"
   ]
  },
  {
   "cell_type": "code",
   "execution_count": null,
   "metadata": {},
   "outputs": [],
   "source": []
  }
 ],
 "metadata": {
  "kernelspec": {
   "display_name": "Julia 1.1.0",
   "language": "julia",
   "name": "julia-1.1"
  },
  "language_info": {
   "file_extension": ".jl",
   "mimetype": "application/julia",
   "name": "julia",
   "version": "1.1.0"
  }
 },
 "nbformat": 4,
 "nbformat_minor": 2
}
