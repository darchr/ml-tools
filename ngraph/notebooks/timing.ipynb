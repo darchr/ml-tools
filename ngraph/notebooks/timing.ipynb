{
 "cells": [
  {
   "cell_type": "markdown",
   "metadata": {},
   "source": [
    "# Timing\n",
    "\n",
    "Our initial idea for using the Persistent Memory devices relies on obtaining timing information for the various kernels in an nGraph function with the inputs/outputs in different different memory pools, and using this timing to assign weights to an optimization routine.\n",
    "\n",
    "The questions this notebook is trying to answer is:\n",
    "\n",
    "1. If profiling individual kernels in this way provides somewhat consistent and reliable results.\n",
    "2. If profiling multiple kernel configurations at a time across the graph yields similar results to testing one configuration at a time. This optimization comre from the large number of configurations that have to be tested for larger graphs. Overlapping thests for non-neighboring ops can speed up profiling time by over an order of magnitude.\n",
    "\n",
    "The general pipeline for performing the profiling is:\n",
    "\n",
    "1. Build a nGraph function + executable\n",
    "2. Get all nodes in the graph that we want to test and enumerate all the configurations to be tested.\n",
    "3. Pick a configuration to test and configure the graph to reflect that configuration. Optionally, keep greedily picking configurations that don't overlap until no more can be selected.\n",
    "4. Recompile the graph with the new memory configuration.\n",
    "5. Use the built-in timing features of nGraph codegen to profile the running times for internal nodes.\n",
    "6. Repeat until all configurations have been checked."
   ]
  },
  {
   "cell_type": "code",
   "execution_count": 3,
   "metadata": {},
   "outputs": [
    {
     "name": "stderr",
     "output_type": "stream",
     "text": [
      "┌ Info: Precompiling Runner [4a6e9825-ed04-540b-82d3-f33d0e8d45fb]\n",
      "└ @ Base loading.jl:1186\n",
      "ERROR: LoadError: LoadError: could not load library \"/home/mark/projects/nGraph/deps/usr/lib/libngraph.so\"\n",
      "libpmemobj.so.1: cannot open shared object file: No such file or directory\n",
      "Stacktrace:\n",
      " [1] #dlopen#3(::Bool, ::Function, ::String, ::UInt32) at /buildworker/worker/package_linux64/build/usr/share/julia/stdlib/v1.1/Libdl/src/Libdl.jl:109\n",
      " [2] dlopen at /buildworker/worker/package_linux64/build/usr/share/julia/stdlib/v1.1/Libdl/src/Libdl.jl:109 [inlined] (repeats 2 times)\n",
      " [3] top-level scope at none:0\n",
      " [4] include at ./boot.jl:326 [inlined]\n",
      " [5] include_relative(::Module, ::String) at ./loading.jl:1038\n",
      " [6] include at ./sysimg.jl:29 [inlined]\n",
      " [7] include(::String) at /home/mark/projects/nGraph/src/nGraph.jl:1\n",
      " [8] top-level scope at none:0\n",
      " [9] include at ./boot.jl:326 [inlined]\n",
      " [10] include_relative(::Module, ::String) at ./loading.jl:1038\n",
      " [11] include(::Module, ::String) at ./sysimg.jl:29\n",
      " [12] top-level scope at none:2\n",
      " [13] eval at ./boot.jl:328 [inlined]\n",
      " [14] eval(::Expr) at ./client.jl:404\n",
      " [15] top-level scope at ./none:3\n",
      "in expression starting at /home/mark/projects/nGraph/src/lib.jl:11\n",
      "in expression starting at /home/mark/projects/nGraph/src/nGraph.jl:18\n",
      "ERROR: LoadError: Failed to precompile nGraph [96f067b3-e350-5ae7-90f2-8283c539009d] to /home/mark/.julia/compiled/v1.1/nGraph/XNBRd.ji.\n",
      "Stacktrace:\n",
      " [1] error(::String) at ./error.jl:33\n",
      " [2] compilecache(::Base.PkgId, ::String) at ./loading.jl:1197\n",
      " [3] _require(::Base.PkgId) at ./loading.jl:960\n",
      " [4] require(::Base.PkgId) at ./loading.jl:858\n",
      " [5] require(::Module, ::Symbol) at ./loading.jl:853\n",
      " [6] include at ./boot.jl:326 [inlined]\n",
      " [7] include_relative(::Module, ::String) at ./loading.jl:1038\n",
      " [8] include(::Module, ::String) at ./sysimg.jl:29\n",
      " [9] top-level scope at none:2\n",
      " [10] eval at ./boot.jl:328 [inlined]\n",
      " [11] eval(::Expr) at ./client.jl:404\n",
      " [12] top-level scope at ./none:3\n",
      "in expression starting at /home/mark/projects/ml-tools/ngraph/Runner/src/Runner.jl:3\n"
     ]
    },
    {
     "ename": "ErrorException",
     "evalue": "Failed to precompile Runner [4a6e9825-ed04-540b-82d3-f33d0e8d45fb] to /home/mark/.julia/compiled/v1.1/Runner/F5BZU.ji.",
     "output_type": "error",
     "traceback": [
      "Failed to precompile Runner [4a6e9825-ed04-540b-82d3-f33d0e8d45fb] to /home/mark/.julia/compiled/v1.1/Runner/F5BZU.ji.",
      "",
      "Stacktrace:",
      " [1] error(::String) at ./error.jl:33",
      " [2] compilecache(::Base.PkgId, ::String) at ./loading.jl:1197",
      " [3] _require(::Base.PkgId) at ./loading.jl:960",
      " [4] require(::Base.PkgId) at ./loading.jl:858",
      " [5] require(::Module, ::Symbol) at ./loading.jl:853",
      " [6] top-level scope at In[3]:2"
     ]
    }
   ],
   "source": [
    "using Pkg; Pkg.activate(\".\")\n",
    "\n",
    "using Runner, Checkpoints\n",
    "\n",
    "# Setup checkpoints\n",
    "setdepot(\"./timing-checkpoints\")"
   ]
  },
  {
   "cell_type": "code",
   "execution_count": null,
   "metadata": {},
   "outputs": [],
   "source": []
  }
 ],
 "metadata": {
  "kernelspec": {
   "display_name": "Julia 1.1.0",
   "language": "julia",
   "name": "julia-1.1"
  },
  "language_info": {
   "file_extension": ".jl",
   "mimetype": "application/julia",
   "name": "julia",
   "version": "1.1.0"
  }
 },
 "nbformat": 4,
 "nbformat_minor": 2
}
