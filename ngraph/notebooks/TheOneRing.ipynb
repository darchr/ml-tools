{
 "cells": [
  {
   "cell_type": "markdown",
   "metadata": {},
   "source": [
    "The goal of this notebook is to check the performance of various formulations"
   ]
  },
  {
   "cell_type": "code",
   "execution_count": 1,
   "metadata": {},
   "outputs": [
    {
     "name": "stderr",
     "output_type": "stream",
     "text": [
      "┌ Info: Recompiling stale cache file /home/mark/.julia/compiled/v1.1/Runner/F5BZU.ji for Runner [4a6e9825-ed04-540b-82d3-f33d0e8d45fb]\n",
      "└ @ Base loading.jl:1184\n",
      "┌ Warning: Package Runner does not have Serialization in its dependencies:\n",
      "│ - If you have Runner checked out for development and have\n",
      "│   added Serialization as a dependency but haven't updated your primary\n",
      "│   environment's manifest file, try `Pkg.resolve()`.\n",
      "│ - Otherwise you may need to report an issue with Runner\n",
      "└ Loading Serialization into Runner from project dependency, future warnings for Runner are suppressed.\n"
     ]
    }
   ],
   "source": [
    "using Pkg; Pkg.activate()\n",
    "using Runner, Zoo, Serialization, nGraph, JuMP, Plots"
   ]
  },
  {
   "cell_type": "code",
   "execution_count": 6,
   "metadata": {},
   "outputs": [
    {
     "name": "stdout",
     "output_type": "stream",
     "text": [
      "Processing 1 of 5\n",
      "Found 38 params\n"
     ]
    },
    {
     "ename": "InterruptException",
     "evalue": "InterruptException:",
     "output_type": "error",
     "traceback": [
      "InterruptException:",
      "",
      "Stacktrace:",
      " [1] compile(::CxxWrap.SmartPointerWithDeref{nGraph.Lib.Backend,:St10unique_ptrIiSt14default_deleteIiEE}, ::CxxWrap.SmartPointerWithDeref{nGraph.Lib.NFunction,:St10shared_ptrIiE}, ::Bool) at ./none:0",
      " [2] compile(::nGraph.Backend, ::nGraph.Lib.ParameterVectorAllocated, ::nGraph.Lib.NodeVectorAllocated) at /home/mark/projects/nGraph/src/compile.jl:38",
      " [3] #compile#41(::nGraph.SGD{Float32}, ::Function, ::nGraph.Backend, ::Function, ::nGraph.Tensor{Float32,4}, ::Vararg{Any,N} where N) at /home/mark/projects/nGraph/src/flux.jl:151",
      " [4] #compile at ./none:0 [inlined]",
      " [5] #vgg19_training#41 at /home/mark/projects/ml-tools/ngraph/Zoo/src/models/vgg.jl:130 [inlined]",
      " [6] vgg19_training at /home/mark/projects/ml-tools/ngraph/Zoo/src/models/vgg.jl:113 [inlined]",
      " [7] #9 at ./In[6]:1 [inlined]",
      " [8] #factory#90(::Runner.CPUKernelCache, ::Function, ::getfield(Main, Symbol(\"##9#10\")), ::getfield(Main, Symbol(\"##13#14\")){Float64}) at /home/mark/projects/ml-tools/ngraph/Runner/src/opt/opt.jl:71",
      " [9] (::getfield(Runner, Symbol(\"#kw##factory\")))(::NamedTuple{(:cache,),Tuple{Runner.CPUKernelCache}}, ::typeof(Runner.factory), ::Function, ::Function) at ./none:0",
      " [10] #_compare!#109(::Base.Iterators.Pairs{Symbol,Runner.CPUKernelCache,Tuple{Symbol},NamedTuple{(:cache,),Tuple{Runner.CPUKernelCache}}}, ::Function, ::NamedTuple{(:predicted_runtimes, :actual_runtimes, :dram_limits, :kernel_times),Tuple{Array{Float64,1},Array{Float64,1},Array{Int64,1},Array{Array{Any,1},1}}}, ::Function, ::Function) at /home/mark/projects/ml-tools/ngraph/Runner/src/profiler/function.jl:95",
      " [11] (::getfield(Runner, Symbol(\"#kw##_compare!\")))(::NamedTuple{(:cache,),Tuple{Runner.CPUKernelCache}}, ::typeof(Runner._compare!), ::NamedTuple{(:predicted_runtimes, :actual_runtimes, :dram_limits, :kernel_times),Tuple{Array{Float64,1},Array{Float64,1},Array{Int64,1},Array{Array{Any,1},1}}}, ::Function, ::Function) at ./none:0",
      " [12] #compare#108(::Runner.CPUKernelCache, ::String, ::Function, ::Function, ::Array{getfield(Main, Symbol(\"##13#14\")){Float64},1}) at /home/mark/projects/ml-tools/ngraph/Runner/src/profiler/function.jl:82",
      " [13] (::getfield(Runner, Symbol(\"#kw##compare\")))(::NamedTuple{(:statspath,),Tuple{String}}, ::typeof(Runner.compare), ::Function, ::Array{getfield(Main, Symbol(\"##13#14\")){Float64},1}) at ./none:0",
      " [14] top-level scope at In[6]:24"
     ]
    }
   ],
   "source": [
    "#=\n",
    "f = () -> Zoo.vgg19_training(128)\n",
    "nsteps = 5\n",
    "\n",
    "# Generator functions for the various optimization methods\n",
    "simple(n) = function(data)\n",
    "    bounds = Runner.allocation_bounds(data)\n",
    "    x = round(Int, bounds.upper_bound * n / 1E6)\n",
    "    return Runner.Simple(x)\n",
    "end\n",
    "\n",
    "synchronous(n) = function(data)\n",
    "    bounds = Runner.allocation_bounds(data)\n",
    "    x = round(Int, bounds.upper_bound * n / 1E6)\n",
    "    return Runner.Synchronous(x, 29000, 12000)\n",
    "end\n",
    "\n",
    "# Fractions of the dram limit to use\n",
    "r = exp10.(range(0, 1; length = nsteps))\n",
    "r = r .- minimum(r)\n",
    "fractions = r ./ maximum(r)\n",
    "\n",
    "simple_iter = simple.(fractions)\n",
    "synchronous_iter = synchronous.(fractions)\n",
    "\n",
    "#simple_data = Runner.compare(f, simple_iter; statspath = \"serials/vgg19_128_simple.jls\")\n",
    "synchronous_data = Runner.compare(f, synchronous_iter; statspath = \"serials/vgg19_128_synchronous.jls\")\n",
    "=#"
   ]
  },
  {
   "cell_type": "code",
   "execution_count": 21,
   "metadata": {},
   "outputs": [
    {
     "data": {
      "image/png": "[encoded data removed]"
     },
     "execution_count": 21,
     "metadata": {},
     "output_type": "execute_result"
    }
   ],
   "source": [
    "#simple_data = deserialize(\"serials/inception_v4_3072_simple.jls\")\n",
    "synchronous_data = deserialize(\"serials/vgg416_128_synchronous.jls\")\n",
    "\n",
    "#=\n",
    "plot(\n",
    "    simple_data.sizes_mb ./ 1E3,\n",
    "    simple_data.predicted_runtimes ./ 1e6,\n",
    "    marker = :x,\n",
    "    label = \"Simple ILP Predicted Runtime\",\n",
    "    minorgrid = true,\n",
    "    fmt = :png,\n",
    ")\n",
    "plot!(\n",
    "    simple_data.sizes_mb ./ 1E3,\n",
    "    simple_data.actual_runtimes,\n",
    "    marker = :x,\n",
    "    label = \"Simple ILP Actual Runtime\"\n",
    ")\n",
    "=#\n",
    "dram_perf = last(synchronous_data.actual_runtimes)\n",
    "#=\n",
    "plot(\n",
    "    synchronous_data.dram_limits ./ 1E3,\n",
    "    synchronous_data.predicted_runtimes ./ 1e6,\n",
    "    marker = :x,\n",
    "    label = \"Synchronous ILP Predicted Runtime\"\n",
    ")\n",
    "=#\n",
    "\n",
    "plot(\n",
    "    synchronous_data.dram_limits ./ 1E3,\n",
    "    #synchronous_data.actual_runtimes ./ last(synchronous_data.actual_runtimes),\n",
    "    synchronous_data.actual_runtimes ./ dram_perf,\n",
    "    marker = :x,\n",
    "    label = \"Synchronous ILP Actual Runtime\",\n",
    "    fmt = :png,\n",
    ")\n",
    "\n",
    "# Add a dot for 2LM\n",
    "plot!([192], [261 ./ dram_perf],\n",
    "    marker = :o,\n",
    "    label = \"2LM Performance\"\n",
    ")\n",
    "#=\n",
    "plot!([192], [212],\n",
    "    marker = :o,\n",
    "    label = \"2LM Performance\"\n",
    ")\n",
    "=#\n",
    "\n",
    "\n",
    "title!(\"VGG416 - Batchsize 128\")\n",
    "ylabel!(\"Relative Running Time\")\n",
    "xlabel!(\"DRAM Limit (GB)\")\n",
    "\n",
    "#yaxis!((0, 1.02 * maximum(synchronous_data.actual_runtimes)))"
   ]
  },
  {
   "cell_type": "code",
   "execution_count": null,
   "metadata": {},
   "outputs": [],
   "source": []
  }
 ],
 "metadata": {
  "kernelspec": {
   "display_name": "Julia 1.1.0",
   "language": "julia",
   "name": "julia-1.1"
  },
  "language_info": {
   "file_extension": ".jl",
   "mimetype": "application/julia",
   "name": "julia",
   "version": "1.1.0"
  }
 },
 "nbformat": 4,
 "nbformat_minor": 2
}
