{
 "cells": [
  {
   "cell_type": "markdown",
   "metadata": {},
   "source": [
    "The goal of this notebook is to check the performance of various formulations"
   ]
  },
  {
   "cell_type": "code",
   "execution_count": null,
   "metadata": {
    "scrolled": true
   },
   "outputs": [],
   "source": [
    "using Pkg; Pkg.activate()\n",
    "using Serialization\n",
    "using nGraph, Runner, Zoo\n",
    "using JuMP, Interact, DataStructures\n",
    "\n",
    "using Plots\n",
    "gr()"
   ]
  },
  {
   "cell_type": "code",
   "execution_count": null,
   "metadata": {
    "scrolled": true
   },
   "outputs": [],
   "source": [
    "function perf_plot(simple, synchronous; title = \"\")\n",
    "    io_size = simple.io_sizes[]\n",
    "\n",
    "    # Sanity check\n",
    "    @assert io_size == synchronous.io_sizes[]\n",
    "\n",
    "    # Show the IO size in GB\n",
    "    @show io_size / 1E9\n",
    "\n",
    "    total_dram = simple.default_alloc_size[] + io_size\n",
    "\n",
    "    dram_performance = min(\n",
    "        minimum(simple.actual_runtimes),\n",
    "        minimum(synchronous.actual_runtimes),\n",
    "    )\n",
    "\n",
    "    plt = plot(\n",
    "        (simple.dram_alloc_size .+ io_size) ./ total_dram,\n",
    "        (simple.actual_runtimes ./ dram_performance),\n",
    "        marker = :square,\n",
    "        label = \"Static ILP\",\n",
    "        minorgrid = true,\n",
    "    )\n",
    "\n",
    "    plot!(plt,\n",
    "        (synchronous.dram_alloc_size .+ io_size) ./ total_dram,\n",
    "        (synchronous.actual_runtimes ./ dram_performance),\n",
    "        marker = :o,\n",
    "        label = \"Synchronous ILP\",\n",
    "    )\n",
    "\n",
    "    title!(plt, title)\n",
    "    ylabel!(plt, \"Relative Performance\")\n",
    "    xlabel!(plt, \"Fraction of Total DRAM\")\n",
    "\n",
    "    return plt\n",
    "end"
   ]
  },
  {
   "cell_type": "code",
   "execution_count": null,
   "metadata": {
    "scrolled": true
   },
   "outputs": [],
   "source": [
    "simple_data = deserialize(\"serials/simple_resnet50_256.jls\")\n",
    "synchronous_data = deserialize(\"serials/synchronous_resnet50_256.jls\")\n",
    "title = \"Resnet 50 - Batchsize 256\"\n",
    "\n",
    "perf_plot(simple_data, synchronous_data; title = title)"
   ]
  },
  {
   "cell_type": "code",
   "execution_count": null,
   "metadata": {
    "scrolled": true
   },
   "outputs": [],
   "source": [
    "simple_data = deserialize(\"serials/simple_resnet200_256.jls\")\n",
    "#synchronous_data = deserialize(\"serials/synchronous_resnet50_256.jls\")\n",
    "title = \"Resnet 200 - Batchsize 256\"\n",
    "\n",
    "perf_plot(simple_data, synchronous_data; title = title)"
   ]
  },
  {
   "cell_type": "markdown",
   "metadata": {},
   "source": [
    "# Kernel Timings"
   ]
  },
  {
   "cell_type": "code",
   "execution_count": null,
   "metadata": {
    "scrolled": true
   },
   "outputs": [],
   "source": [
    "#f = () -> Zoo.inception_v4_training(3072)\n",
    "#f = () -> Zoo.resnet_training(50, 256)\n",
    "#f = () -> Zoo.vgg19_training(128)\n",
    "f = () -> Zoo.inception_v4_training(128)\n",
    "\n",
    "# Generator functions for the various optimization methods\n",
    "simple(n) = function(data)\n",
    "    bounds = Runner.allocation_bounds(data)\n",
    "    x = round(Int, bounds.upper_bound * n / 1E6)\n",
    "    return Runner.Simple(x)\n",
    "end\n",
    "\n",
    "synchronous(n) = function(data)\n",
    "    bounds = Runner.allocation_bounds(data)\n",
    "    x = round(Int, bounds.upper_bound * n / 1E6)\n",
    "    println(\"Trying to use $x MB of memory\")\n",
    "    return Runner.Synchronous(x, 29000, 12000)\n",
    "end"
   ]
  },
  {
   "cell_type": "code",
   "execution_count": null,
   "metadata": {
    "scrolled": false
   },
   "outputs": [],
   "source": [
    "#ratios = [0.0, 0.02, 0.05, 0.1, 0.2, 1.0]\n",
    "ratios = [0.05]\n",
    "exe_frame_pairs = map(ratios) do r\n",
    "    fex, args, frame, metadata = Runner.factory(f, simple(r), Runner.OnlyIntermediate())\n",
    "    return (fex = fex, frame = frame)\n",
    "end"
   ]
  },
  {
   "cell_type": "code",
   "execution_count": null,
   "metadata": {
    "scrolled": true
   },
   "outputs": [],
   "source": [
    "# Do a marginal cost plot\n",
    "pair = exe_frame_pairs[1]\n",
    "fex = pair.fex\n",
    "data = pair.frame.profile_data\n",
    "\n",
    "@time marginals = Runner.Analyzer.marginal_costs(fex, data)\n",
    "plot(marginals)"
   ]
  },
  {
   "cell_type": "markdown",
   "metadata": {},
   "source": [
    "# Kernel Plots"
   ]
  },
  {
   "cell_type": "code",
   "execution_count": null,
   "metadata": {
    "scrolled": true
   },
   "outputs": [],
   "source": [
    "function genplot(kernels::Vector{Runner.Analyzer.Kernel}, filt)\n",
    "\n",
    "    # Filter along each inner vector\n",
    "    filtered_kernels = filter(\n",
    "        x -> isequal(Runner.filter_out_io(x.params), Runner.filter_out_io(filt.params)), kernels)\n",
    "\n",
    "    nrows = (kernels) -> 1\n",
    "    ncols = (kernels) -> length(first(kernels).config)\n",
    "    x = (kernels, row, col) -> [\n",
    "        vcat(\n",
    "            collect(prod.(k.params.input_sizes)),\n",
    "            collect(prod.(k.params.output_sizes))\n",
    "        )[col] for k in kernels\n",
    "    ]\n",
    "    y = (kernels, row, col) -> [k.index for k in kernels]\n",
    "    color = (kernels, row, col) -> [k.config[col] == Runner.DRAM ? :blue : :red for k in kernels]\n",
    "    title = function(kernels, row, col)\n",
    "        k = first(kernels)\n",
    "        if col <= length(k.params.input_formats)\n",
    "            format = last(split(nGraph.Lib.get_mkldnn_string(k.params.input_formats[col]), \":\"))\n",
    "        else\n",
    "            format = \"is output\"\n",
    "        end\n",
    "        return \"$format\"\n",
    "    end\n",
    "\n",
    "    KP = Runner.Analyzer.KernelPlot(filtered_kernels, nrows, ncols, x, y, color, title)\n",
    "    plot(KP)\n",
    "end"
   ]
  },
  {
   "cell_type": "code",
   "execution_count": null,
   "metadata": {
    "scrolled": true
   },
   "outputs": [],
   "source": [
    "executables = getproperty.(exe_frame_pairs, :fex)\n",
    "kernels = Runner.Analyzer.kernel_breakdown.(executables)\n",
    "unique_kernels = unique(x -> Runner.filter_out_io(x.params), first(kernels))\n",
    "\n",
    "# Make options to select the kernel\n",
    "options = OrderedDict(\"$i $(Runner.Analyzer.description(k))\" => i for (i,k) in enumerate(unique_kernels))\n",
    "\n",
    "mp = @manipulate for v in dropdown(options), ratio in ratios\n",
    "    r = findfirst(isequal(ratio), ratios)\n",
    "    genplot(kernels[r], unique_kernels[v])\n",
    "end"
   ]
  },
  {
   "cell_type": "markdown",
   "metadata": {},
   "source": [
    "## Reuse Distance"
   ]
  },
  {
   "cell_type": "code",
   "execution_count": null,
   "metadata": {
    "scrolled": true
   },
   "outputs": [],
   "source": [
    "md = @manipulate for ratio in ratios\n",
    "    r = findfirst(isequal(ratio), ratios)\n",
    "    \n",
    "    # Unpack FluxExecutable and ProfileData\n",
    "    pair = exe_frame_pairs[r]\n",
    "    fex = pair.fex\n",
    "    data = pair.frame.profile_data\n",
    "    \n",
    "    rd = Runner.Analyzer.reuse_distance(fex, data)\n",
    "    plot(rd)\n",
    "end"
   ]
  },
  {
   "cell_type": "code",
   "execution_count": null,
   "metadata": {
    "scrolled": true
   },
   "outputs": [],
   "source": []
  }
 ],
 "metadata": {
  "@webio": {
   "lastCommId": null,
   "lastKernelId": null
  },
  "kernelspec": {
   "display_name": "Julia 1.1.0",
   "language": "julia",
   "name": "julia-1.1"
  },
  "language_info": {
   "file_extension": ".jl",
   "mimetype": "application/julia",
   "name": "julia",
   "version": "1.1.0"
  }
 },
 "nbformat": 4,
 "nbformat_minor": 2
}
